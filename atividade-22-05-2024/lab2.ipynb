{
 "cells": [
  {
   "cell_type": "code",
   "execution_count": null,
   "metadata": {},
   "outputs": [],
   "source": [
    "import numby as np\n",
    "import cv2 \n",
    "from matplotlib import pyplot as plt\n",
    "\n",
    "img = cv2.imread('idosos-felizes.png', 0)\n",
    "\n",
    "kernel = np.array(\n",
    "    [1,1,1,1,1],\n",
    "    [1,1,1,1,1],\n",
    "    [1,1,1,1,1],\n",
    "    [1,1,1,1,1],\n",
    "    [1,1,1,1,1],\n",
    ")\n",
    "\n",
    "kernel = kernel/(np.sum(kernel) if np.sum(kernel) != 0 else 1)\n",
    "\n",
    "imgf = cv2.filter2D(img, -1, kernel)\n",
    "\n",
    "plt.subplot(121), plt.imshow(img, cmap='gray'),plt.title(\"Original\")\n",
    "plt.axis(\"off\")\n",
    "plt.subplot(122),plt.imshow(imgf, cmap=\"gray\"),plt.title(\"Imagem filtrada\")"
   ]
  }
 ],
 "metadata": {
  "language_info": {
   "name": "python"
  }
 },
 "nbformat": 4,
 "nbformat_minor": 2
}
